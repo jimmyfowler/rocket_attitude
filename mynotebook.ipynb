{
 "cells": [
  {
   "cell_type": "code",
   "execution_count": 12,
   "metadata": {},
   "outputs": [],
   "source": [
    "#Better notebook\n",
    "import numpy as np\n",
    "import matplotlib.pyplot as plt\n"
   ]
  },
  {
   "cell_type": "code",
   "execution_count": 4,
   "metadata": {},
   "outputs": [],
   "source": [
    "# # Moment of Inertia\n",
    "# I = 10000 # kg*m^2\n",
    "# \n",
    "# # INITIAL CONDITION\n",
    "# theta_0 = 2 # rad\n",
    "# omega_0 = 1 # rad/sec\n",
    "# \n",
    "# dt = 0.1\n",
    "# \n",
    "# for i in range(400):\n",
    "#     x = 0\n",
    "#     \n",
    "# # initialize the states\n",
    "# theta = []\n",
    "# omega = []\n",
    "# # these might not be necessary; try x = 0\n",
    "# \n",
    "# # FSFB GAINS\n",
    "# k1 = 1\n",
    "# k2 = 1\n",
    "# K = np.array([-k1, -k2])\n",
    "# \n",
    "# # System dynamics / How the states affect eachother\n",
    "# # A = np.array([  [0, 1],\n",
    "# #                 [0, 0]\n",
    "# #             ])\n",
    "# \n",
    "# A = np.array([  [0, dt],\n",
    "#                 [0, 0]\n",
    "#             ])\n",
    "# \n",
    "# # Effect of controller input (u) on states\n",
    "# B = np.array([  [0],\n",
    "#                 [1/I]\n",
    "#             ])\n",
    "# \n",
    "# u1 = [-k1*theta-k2*omega]\n",
    "# u2 = [-k1, -k2]@[[theta], [omega]]\n",
    "# # np.pi is pi\n",
    "# print(u1, u2)\n",
    "# \n",
    "# theta1 = 5\n",
    "# omega1 = 6\n",
    "# \n",
    "# theta \n",
    "# "
   ]
  },
  {
   "cell_type": "code",
   "execution_count": 5,
   "metadata": {},
   "outputs": [],
   "source": [
    "def effeciency(theta, omega, k1, k2, I):\n",
    "    time = 0\n",
    "    dt = 0.1\n",
    "    error = abs(theta) + abs(omega)\n",
    "    while error > 0.01:\n",
    "        theta_1 = theta + omega*dt\n",
    "        omega = omega + ((-k1/I)*theta + (-k2/I)*omega)*dt\n",
    "        theta = theta_1\n",
    "        time += dt\n",
    "        error = abs(theta) + abs(omega)\n",
    "    return time"
   ]
  },
  {
   "cell_type": "code",
   "execution_count": 10,
   "metadata": {},
   "outputs": [
    {
     "data": {
      "text/plain": [
       "35563.89999976297"
      ]
     },
     "execution_count": 10,
     "metadata": {},
     "output_type": "execute_result"
    }
   ],
   "source": [
    "effeciency(np.pi/4,np.pi/8,5000,1000,10000)"
   ]
  },
  {
   "cell_type": "code",
   "execution_count": 14,
   "metadata": {},
   "outputs": [
    {
     "ename": "AttributeError",
     "evalue": "'numpy.ndarray' object has no attribute 'append'",
     "output_type": "error",
     "traceback": [
      "\u001b[1;31m---------------------------------------------------------------------------\u001b[0m",
      "\u001b[1;31mAttributeError\u001b[0m                            Traceback (most recent call last)",
      "Cell \u001b[1;32mIn[14], line 3\u001b[0m\n\u001b[0;32m      1\u001b[0m time \u001b[38;5;241m=\u001b[39m np\u001b[38;5;241m.\u001b[39marray([])\n\u001b[0;32m      2\u001b[0m \u001b[38;5;28;01mfor\u001b[39;00m k1 \u001b[38;5;129;01min\u001b[39;00m \u001b[38;5;28mrange\u001b[39m(\u001b[38;5;241m500\u001b[39m,\u001b[38;5;241m10000\u001b[39m,\u001b[38;5;241m100\u001b[39m):\n\u001b[1;32m----> 3\u001b[0m     \u001b[43mtime\u001b[49m\u001b[38;5;241;43m.\u001b[39;49m\u001b[43mappend\u001b[49m([effeciency(np\u001b[38;5;241m.\u001b[39mpi\u001b[38;5;241m/\u001b[39m\u001b[38;5;241m4\u001b[39m,np\u001b[38;5;241m.\u001b[39mpi\u001b[38;5;241m/\u001b[39m\u001b[38;5;241m8\u001b[39m,k1,\u001b[38;5;241m1000\u001b[39m,\u001b[38;5;241m10000\u001b[39m)])\n\u001b[0;32m      4\u001b[0m \u001b[38;5;28mprint\u001b[39m(time)\n",
      "\u001b[1;31mAttributeError\u001b[0m: 'numpy.ndarray' object has no attribute 'append'"
     ]
    }
   ],
   "source": [
    "time = np.array([])\n",
    "for k1 in range(500,10000,100):\n",
    "    np.append(time, effeciency(np.pi/4,np.pi/8,k1,1000,10000))\n",
    "print(time)"
   ]
  }
 ],
 "metadata": {
  "kernelspec": {
   "display_name": "Python 3",
   "language": "python",
   "name": "python3"
  },
  "language_info": {
   "codemirror_mode": {
    "name": "ipython",
    "version": 3
   },
   "file_extension": ".py",
   "mimetype": "text/x-python",
   "name": "python",
   "nbconvert_exporter": "python",
   "pygments_lexer": "ipython3",
   "version": "3.11.8"
  }
 },
 "nbformat": 4,
 "nbformat_minor": 2
}
