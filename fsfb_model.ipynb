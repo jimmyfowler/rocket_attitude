{
 "cells": [
  {
   "cell_type": "code",
   "execution_count": 2,
   "metadata": {},
   "outputs": [],
   "source": [
    "import numpy as np\n",
    "import matplotlib.pyplot as plt"
   ]
  },
  {
   "cell_type": "code",
   "execution_count": 5,
   "metadata": {},
   "outputs": [
    {
     "ename": "TypeError",
     "evalue": "unsupported operand type(s) for -: 'list' and 'list'",
     "output_type": "error",
     "traceback": [
      "\u001b[0;31m---------------------------------------------------------------------------\u001b[0m",
      "\u001b[0;31mTypeError\u001b[0m                                 Traceback (most recent call last)",
      "Cell \u001b[0;32mIn[5], line 21\u001b[0m\n\u001b[1;32m     16\u001b[0m \u001b[38;5;66;03m# Effect of controller input (u) on states\u001b[39;00m\n\u001b[1;32m     17\u001b[0m B \u001b[38;5;241m=\u001b[39m np\u001b[38;5;241m.\u001b[39marray([[\u001b[38;5;241m0\u001b[39m],\n\u001b[1;32m     18\u001b[0m               [\u001b[38;5;241m1\u001b[39m\u001b[38;5;241m/\u001b[39mI]])\n\u001b[0;32m---> 21\u001b[0m u1 \u001b[38;5;241m=\u001b[39m [\u001b[38;5;241;43m-\u001b[39;49m\u001b[43mk1\u001b[49m\u001b[38;5;241;43m*\u001b[39;49m\u001b[43mtheta\u001b[49m\u001b[38;5;241;43m-\u001b[39;49m\u001b[43mk2\u001b[49m\u001b[38;5;241;43m*\u001b[39;49m\u001b[43momega\u001b[49m]\n\u001b[1;32m     22\u001b[0m u2 \u001b[38;5;241m=\u001b[39m [\u001b[38;5;241m-\u001b[39mk1, \u001b[38;5;241m-\u001b[39mk2]\u001b[38;5;241m@\u001b[39m[[theta], [omega]]\n\u001b[1;32m     24\u001b[0m \u001b[38;5;28mprint\u001b[39m(u1, u2)\n",
      "\u001b[0;31mTypeError\u001b[0m: unsupported operand type(s) for -: 'list' and 'list'"
     ]
    }
   ],
   "source": [
    "# Moment of Inertia\n",
    "I = 10000\n",
    "\n",
    "# INITIAL CONDITION\n",
    "theta_0 = 2 # rad\n",
    "omega_0 = 1 # rad/sec\n",
    "\n",
    "dt = 0.1\n",
    "\n",
    "for i in range(400):\n",
    "    x = 0\n",
    "    \n",
    "# initialize the states\n",
    "theta = []\n",
    "omega = []\n",
    "# these might not be necessary; try x = 0\n",
    "\n",
    "# FSFB GAINS\n",
    "k1 = 1\n",
    "k2 = 1\n",
    "K = np.array([-k1, -k2])\n",
    "\n",
    "# System dynamics / How the states affect eachother\n",
    "# A = np.array([  [0, 1],\n",
    "#                 [0, 0]\n",
    "#             ])\n",
    "\n",
    "A = np.array([  [0, dt],\n",
    "                [0, 0]\n",
    "            ])\n",
    "\n",
    "# Effect of controller input (u) on states\n",
    "B = np.array([  [0],\n",
    "                [1/I]\n",
    "            ])\n",
    "\n",
    "u1 = [-k1*theta-k2*omega]\n",
    "u2 = [-k1, -k2]@[[theta], [omega]]\n",
    "\n",
    "print(u1, u2)"
   ]
  },
  {
   "cell_type": "code",
   "execution_count": 1,
   "metadata": {},
   "outputs": [],
   "source": []
  },
  {
   "cell_type": "code",
   "execution_count": null,
   "metadata": {},
   "outputs": [],
   "source": []
  }
 ],
 "metadata": {
  "kernelspec": {
   "display_name": "Python 3",
   "language": "python",
   "name": "python3"
  },
  "language_info": {
   "codemirror_mode": {
    "name": "ipython",
    "version": 3
   },
   "file_extension": ".py",
   "mimetype": "text/x-python",
   "name": "python",
   "nbconvert_exporter": "python",
   "pygments_lexer": "ipython3",
   "version": "3.10.13"
  }
 },
 "nbformat": 4,
 "nbformat_minor": 2
}
